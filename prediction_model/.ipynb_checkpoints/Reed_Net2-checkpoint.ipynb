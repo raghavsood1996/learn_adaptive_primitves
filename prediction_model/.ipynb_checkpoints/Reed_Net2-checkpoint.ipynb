{
 "cells": [
  {
   "cell_type": "code",
   "execution_count": 18,
   "metadata": {},
   "outputs": [],
   "source": [
    "import torch\n",
    "import torchvision\n",
    "import torchvision.transforms as transforms\n",
    "from torch.autograd import Variable\n",
    "import torch.nn as nn\n",
    "import torch.nn.functional as F\n",
    "import csv\n",
    "import sys\n",
    "import numpy as np\n",
    "import base64\n",
    "import os\n",
    "import random\n",
    "import numpy as np\n",
    "import json\n",
    "import matplotlib.pyplot as plt\n",
    "from matplotlib.pyplot import imshow\n",
    "import matplotlib.image as mpimg"
   ]
  },
  {
   "cell_type": "code",
   "execution_count": 19,
   "metadata": {},
   "outputs": [],
   "source": [
    "def getdataloaders(data,train_batch_size=50,test_batch_size=50):\n",
    "    np.random.shuffle(data.T)\n",
    "    train_data1 = data[:,:200000]\n",
    "    test_data1 = data[:,200000:]\n",
    "    \n",
    "    #creating train batches\n",
    "    num_batches_train = int(train_data1.shape[1]/train_batch_size)\n",
    "    train_data= np.empty([num_batches_train,train_data1.shape[0],train_batch_size])\n",
    "    for idx in range (0, num_batches_train):\n",
    "        train_data[idx,:,:]=train_data1[:,idx*train_batch_size:(idx + 1)*train_batch_size]\n",
    "    \n",
    "    #creating test batches\n",
    "    num_batches_test = int(test_data1.shape[1]/test_batch_size)\n",
    "    test_data =np.empty([num_batches_test,test_data1.shape[0],test_batch_size])\n",
    "    for idx in range (0, num_batches_test):\n",
    "        test_data[idx,:,:]=test_data1[:,idx*test_batch_size:(idx + 1)*test_batch_size]\n",
    "    \n",
    "    return train_data,test_data"
   ]
  },
  {
   "cell_type": "code",
   "execution_count": 20,
   "metadata": {},
   "outputs": [],
   "source": [
    "def cal_accuracy(target,output):\n",
    "    correct_count = 0;\n",
    "    \n",
    "    for i in range (0,target.size(0)):\n",
    "        if(output[i]>0.5):\n",
    "            result =1 \n",
    "        else:\n",
    "            result =0\n",
    "        if(target[i] == result):\n",
    "            correct_count += 1\n",
    "    accuracy = correct_count/target.size(0)\n",
    "    \n",
    "    return accuracy,correct_count\n",
    "    \n",
    "    "
   ]
  },
  {
   "cell_type": "code",
   "execution_count": 21,
   "metadata": {},
   "outputs": [],
   "source": [
    "class network(nn.Module):\n",
    "    def __init__(self,input_nodes,hidden_nodes1,hidden_nodes2,output_node):\n",
    "        super(network,self).__init__()\n",
    "        self.fc1 = nn.Linear(input_nodes,hidden_nodes1)\n",
    "        nn.init.xavier_uniform_(self.fc1.weight)\n",
    "        self.bn1 = nn.BatchNorm1d(num_features=hidden_nodes1)\n",
    "        \n",
    "        self.fc2 = nn.Linear(hidden_nodes1,hidden_nodes2)\n",
    "        nn.init.xavier_uniform_(self.fc2.weight)\n",
    "        self.bn2 = nn.BatchNorm1d(num_features = hidden_nodes2)\n",
    "        \n",
    "        self.fc3 = nn.Linear(hidden_nodes2,output_nodes)\n",
    "        nn.init.xavier_uniform_(self.fc3.weight)\n",
    "        \n",
    "        self.out_act = nn.Sigmoid();\n",
    "        \n",
    "    def forward(self,X):\n",
    "        X = F.relu(self.bn1(self.fc1(X)))\n",
    "        X = self.fc2(X)\n",
    "        X = F.dropout2d(X,p=0.1)\n",
    "        X = F.relu(X)\n",
    "        X = self.fc3(X)\n",
    "        out = self.out_act(X)\n",
    "        return out\n",
    "        \n",
    "    "
   ]
  },
  {
   "cell_type": "code",
   "execution_count": 22,
   "metadata": {},
   "outputs": [],
   "source": [
    "def train(trainloader, optimizer, criterion, epoch, net):\n",
    "    net.train()\n",
    "    train_loss_sum = 0\n",
    "    total_correct_count = 0\n",
    "    total_accuracy = 0 \n",
    "    for  idx in range(trainloader.size(0)):\n",
    "        target = trainloader[idx,92,:].reshape(trainloader.size(2)).float().reshape(trainloader.size(2),1)\n",
    "        input_vectors = trainloader[idx,:92,:].float().t()\n",
    "        output = net.forward(input_vectors)\n",
    "        loss = criterion(output,target)\n",
    "        optimizer.zero_grad()\n",
    "        loss.backward()\n",
    "        optimizer.step()\n",
    "        train_loss_sum += float(loss)\n",
    "        batch_accuracy,batch_corr_count = cal_accuracy(target,output)\n",
    "        total_accuracy += batch_accuracy\n",
    "    avg_acc = total_accuracy/trainloader.size(0)\n",
    "    train_loss = train_loss_sum/trainloader.size(0)\n",
    "    print(\"Epoch No.\" , epoch, \" Train Loss\" ,train_loss,\" Avg Accuracy \",avg_acc*100,\"%\")\n",
    "    return train_loss\n",
    "\n",
    "\n",
    "def test(testloader,criterion,epoch,net):\n",
    "    net.eval()\n",
    "    test_loss_sum = 0\n",
    "    total_correct_count = 0\n",
    "    total_accuracy = 0 \n",
    "    for idx in range(testloader.size(0)):\n",
    "        target = testloader[idx,92,:].reshape(testloader.size(2)).float().reshape(testloader.size(2),1)\n",
    "        input_vectors = testloader[idx,:92,:].float().t()\n",
    "        output = net.forward(input_vectors)\n",
    "        loss = criterion(output,target.float())\n",
    "        test_loss_sum += float(loss)\n",
    "        batch_accuracy,batch_corr_count = cal_accuracy(target,output)\n",
    "        total_accuracy += batch_accuracy\n",
    "    test_loss = test_loss_sum/testloader.size(0)\n",
    "    avg_acc = total_accuracy/testloader.size(0)\n",
    "    print(\"Epoch No.\" , epoch, \" Test Loss\" ,test_loss,\" Avg Accuracy \",avg_acc*100,\"%\")\n",
    "    print(\" \")\n",
    "    return test_loss\n",
    "        \n",
    "        \n",
    "    "
   ]
  },
  {
   "cell_type": "code",
   "execution_count": 23,
   "metadata": {},
   "outputs": [],
   "source": [
    "def plot_loss(x,y):\n",
    "    plt.plot(x,y)\n",
    "    plt.show()"
   ]
  },
  {
   "cell_type": "code",
   "execution_count": 26,
   "metadata": {
    "scrolled": true
   },
   "outputs": [
    {
     "name": "stdout",
     "output_type": "stream",
     "text": [
      "Epoch No. 0  Train Loss 0.45083355505391953  Avg Accuracy  78.85650000000285 %\n",
      "Epoch No. 0  Test Loss 0.41823103394619043  Avg Accuracy  81.12980769230919 %\n",
      " \n",
      "Epoch No. 1  Train Loss 0.4172414876446128  Avg Accuracy  80.80800000000328 %\n",
      "Epoch No. 1  Test Loss 0.4107905697108855  Avg Accuracy  81.12079326923211 %\n",
      " \n",
      "Epoch No. 2  Train Loss 0.41082915142178533  Avg Accuracy  81.10700000000317 %\n",
      "Epoch No. 2  Test Loss 0.409821888346834  Avg Accuracy  81.35216346153975 %\n",
      " \n",
      "Epoch No. 3  Train Loss 0.40634211189672353  Avg Accuracy  81.35700000000348 %\n",
      "Epoch No. 3  Test Loss 0.40811900712567595  Avg Accuracy  81.45733173077063 %\n",
      " \n",
      "Epoch No. 4  Train Loss 0.4032397186309099  Avg Accuracy  81.48950000000353 %\n",
      "Epoch No. 4  Test Loss 0.4109708630533602  Avg Accuracy  81.15685096153979 %\n",
      " \n",
      "Epoch No. 5  Train Loss 0.40118798472732303  Avg Accuracy  81.68900000000355 %\n",
      "Epoch No. 5  Test Loss 0.4024800775592806  Avg Accuracy  82.08233173077072 %\n",
      " \n",
      "Epoch No. 6  Train Loss 0.3986600194759667  Avg Accuracy  81.77150000000344 %\n",
      "Epoch No. 6  Test Loss 0.3951547116045661  Avg Accuracy  82.40384615384765 %\n",
      " \n",
      "Epoch No. 7  Train Loss 0.3964695227853954  Avg Accuracy  81.87600000000364 %\n",
      "Epoch No. 7  Test Loss 0.3948828278091521  Avg Accuracy  82.21153846154003 %\n",
      " \n",
      "Epoch No. 8  Train Loss 0.3944132667928934  Avg Accuracy  82.00950000000354 %\n",
      "Epoch No. 8  Test Loss 0.39122474514274824  Avg Accuracy  82.37079326923242 %\n",
      " \n",
      "Epoch No. 9  Train Loss 0.39344180733710526  Avg Accuracy  82.05250000000358 %\n",
      "Epoch No. 9  Test Loss 0.39375244064677434  Avg Accuracy  82.4759615384633 %\n",
      " \n",
      "Epoch No. 10  Train Loss 0.3919324924685061  Avg Accuracy  82.07950000000369 %\n",
      "Epoch No. 10  Test Loss 0.39467451878926324  Avg Accuracy  82.18149038461694 %\n",
      " \n",
      "Epoch No. 11  Train Loss 0.3905181973427534  Avg Accuracy  82.19350000000362 %\n",
      "Epoch No. 11  Test Loss 0.39798293087089687  Avg Accuracy  81.85997596153982 %\n",
      " \n",
      "Epoch No. 12  Train Loss 0.38927610803022983  Avg Accuracy  82.17150000000369 %\n",
      "Epoch No. 12  Test Loss 0.39487085791524107  Avg Accuracy  82.13040865384751 %\n",
      " \n",
      "Epoch No. 13  Train Loss 0.387956625290215  Avg Accuracy  82.27300000000369 %\n",
      "Epoch No. 13  Test Loss 0.3950007036384285  Avg Accuracy  82.14843750000145 %\n",
      " \n",
      "Epoch No. 14  Train Loss 0.38763118739798663  Avg Accuracy  82.31700000000384 %\n",
      "Epoch No. 14  Test Loss 0.39204616624696287  Avg Accuracy  82.51802884615546 %\n",
      " \n",
      "Epoch No. 15  Train Loss 0.38697753834724424  Avg Accuracy  82.33750000000366 %\n",
      "Epoch No. 15  Test Loss 0.3889432372547722  Avg Accuracy  82.52403846153999 %\n",
      " \n",
      "Epoch No. 16  Train Loss 0.3861559789478779  Avg Accuracy  82.34850000000372 %\n",
      "Epoch No. 16  Test Loss 0.3916130404932818  Avg Accuracy  82.33473557692477 %\n",
      " \n",
      "Epoch No. 17  Train Loss 0.3847890384607017  Avg Accuracy  82.4680000000038 %\n",
      "Epoch No. 17  Test Loss 0.3962130704334973  Avg Accuracy  82.20252403846305 %\n",
      " \n",
      "Epoch No. 18  Train Loss 0.38425868107005956  Avg Accuracy  82.4640000000037 %\n",
      "Epoch No. 18  Test Loss 0.39565883385680184  Avg Accuracy  82.41586538461702 %\n",
      " \n",
      "Epoch No. 19  Train Loss 0.38332120040431616  Avg Accuracy  82.56350000000357 %\n",
      "Epoch No. 19  Test Loss 0.39516660778183277  Avg Accuracy  82.319711538463 %\n",
      " \n"
     ]
    }
   ],
   "source": [
    "input_nodes = 92\n",
    "hidden_nodes1 = 50\n",
    "hidden_nodes2 = 30\n",
    "output_nodes = 1\n",
    "batch_number = 50\n",
    "learning_rate = 0.001\n",
    "epochs = 20\n",
    "\n",
    "data=np.load(\"../data/data_float.npy\")\n",
    "train_data,test_data = getdataloaders(data,50,10)\n",
    "trainloader = torch.from_numpy(train_data)\n",
    "testloader =  torch.from_numpy(test_data)\n",
    "\n",
    "\n",
    "reeds_net = network(input_nodes,hidden_nodes1,hidden_nodes2,output_nodes)\n",
    "optimizer = torch.optim.Adam(reeds_net.parameters(), lr=learning_rate)\n",
    "criterion = nn.BCELoss()\n",
    "\n",
    "train_loss_list = []\n",
    "test_loss_list = []\n",
    "epoch_list = []\n",
    "for epoch in range(epochs):\n",
    "    train_loss=train(trainloader, optimizer, criterion, epoch, reeds_net)\n",
    "    test_loss= test(testloader, criterion, epoch, reeds_net)\n",
    "    train_loss_list.append(train_loss)\n",
    "    test_loss_list.append(test_loss)\n",
    "    epoch_list.append(epoch)"
   ]
  },
  {
   "cell_type": "code",
   "execution_count": 28,
   "metadata": {},
   "outputs": [
    {
     "data": {
      "image/png": "[encoded data removed]",
      "text/plain": [
       "<Figure size 432x288 with 1 Axes>"
      ]
     },
     "metadata": {
      "needs_background": "light"
     },
     "output_type": "display_data"
    }
   ],
   "source": [
    "#plotting the losses\n",
    "plt.plot(epoch_list,train_loss_list)\n",
    "plt.plot(epoch_list,test_loss_list)\n",
    "plt.gca().legend((\"train_loss\",\"test_loss\"))\n",
    "plt.show()"
   ]
  },
  {
   "cell_type": "code",
   "execution_count": null,
   "metadata": {},
   "outputs": [],
   "source": []
  },
  {
   "cell_type": "markdown",
   "metadata": {},
   "source": []
  }
 ],
 "metadata": {
  "kernelspec": {
   "display_name": "Python 3",
   "language": "python",
   "name": "python3"
  },
  "language_info": {
   "codemirror_mode": {
    "name": "ipython",
    "version": 3
   },
   "file_extension": ".py",
   "mimetype": "text/x-python",
   "name": "python",
   "nbconvert_exporter": "python",
   "pygments_lexer": "ipython3",
   "version": "3.7.3"
  }
 },
 "nbformat": 4,
 "nbformat_minor": 2
}

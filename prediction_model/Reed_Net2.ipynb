{
 "cells": [
  {
   "cell_type": "code",
   "execution_count": 1,
   "metadata": {},
   "outputs": [],
   "source": [
    "import torch\n",
    "import torchvision\n",
    "import torchvision.transforms as transforms\n",
    "from torch.autograd import Variable\n",
    "import torch.nn as nn\n",
    "import torch.nn.functional as F\n",
    "import csv\n",
    "import sys\n",
    "import numpy as np\n",
    "import base64\n",
    "import os\n",
    "import random\n",
    "import numpy as np\n",
    "import json\n",
    "import matplotlib.pyplot as plt\n",
    "from matplotlib.pyplot import imshow\n",
    "import matplotlib.image as mpimg"
   ]
  },
  {
   "cell_type": "code",
   "execution_count": 2,
   "metadata": {},
   "outputs": [],
   "source": [
    "def getdataloaders(data,train_batch_size=50,test_batch_size=50):\n",
    "    np.random.shuffle(data.T)\n",
    "    train_data1 = data[:,:200000]\n",
    "    test_data1 = data[:,200000:]\n",
    "    \n",
    "    #creating train batches\n",
    "    num_batches_train = int(train_data1.shape[1]/train_batch_size)\n",
    "    train_data= np.empty([num_batches_train,train_data1.shape[0],train_batch_size])\n",
    "    for idx in range (0, num_batches_train):\n",
    "        train_data[idx,:,:]=train_data1[:,idx*train_batch_size:(idx + 1)*train_batch_size]\n",
    "    \n",
    "    #creating test batches\n",
    "    num_batches_test = int(test_data1.shape[1]/test_batch_size)\n",
    "    test_data =np.empty([num_batches_test,test_data1.shape[0],test_batch_size])\n",
    "    for idx in range (0, num_batches_test):\n",
    "        test_data[idx,:,:]=test_data1[:,idx*test_batch_size:(idx + 1)*test_batch_size]\n",
    "    \n",
    "    return train_data,test_data"
   ]
  },
  {
   "cell_type": "code",
   "execution_count": 3,
   "metadata": {},
   "outputs": [],
   "source": [
    "def cal_accuracy(target,output):\n",
    "    correct_count = 0;\n",
    "    \n",
    "    for i in range (0,target.size(0)):\n",
    "        if(output[i]>0.5):\n",
    "            result =1 \n",
    "        else:\n",
    "            result =0\n",
    "        if(target[i] == result):\n",
    "            correct_count += 1\n",
    "    accuracy = correct_count/target.size(0)\n",
    "    \n",
    "    return accuracy,correct_count\n",
    "    \n",
    "    "
   ]
  },
  {
   "cell_type": "code",
   "execution_count": 4,
   "metadata": {},
   "outputs": [],
   "source": [
    "class network(nn.Module):\n",
    "    def __init__(self,input_nodes,hidden_nodes1,hidden_nodes2,output_node):\n",
    "        super(network,self).__init__()\n",
    "        self.fc1 = nn.Linear(input_nodes,hidden_nodes1)\n",
    "        nn.init.xavier_uniform_(self.fc1.weight)\n",
    "        self.bn1 = nn.BatchNorm1d(num_features=hidden_nodes1)\n",
    "        \n",
    "        self.fc2 = nn.Linear(hidden_nodes1,hidden_nodes2)\n",
    "        nn.init.xavier_uniform_(self.fc2.weight)\n",
    "        self.bn2 = nn.BatchNorm1d(num_features = hidden_nodes2)\n",
    "        \n",
    "        self.fc3 = nn.Linear(hidden_nodes2,output_nodes)\n",
    "        nn.init.xavier_uniform_(self.fc3.weight)\n",
    "        \n",
    "        self.out_act = nn.Sigmoid();\n",
    "        \n",
    "    def forward(self,X):\n",
    "        X = F.relu(self.bn1(self.fc1(X)))\n",
    "        X = self.fc2(X)\n",
    "        X = F.dropout2d(X,p=0.1)\n",
    "        X = F.relu(X)\n",
    "        X = self.fc3(X)\n",
    "        out = self.out_act(X)\n",
    "        return out\n",
    "        \n",
    "    "
   ]
  },
  {
   "cell_type": "code",
   "execution_count": 5,
   "metadata": {},
   "outputs": [],
   "source": [
    "def train(trainloader, optimizer, criterion, epoch, net):\n",
    "    net.train()\n",
    "    train_loss_sum = 0\n",
    "    total_correct_count = 0\n",
    "    total_accuracy = 0 \n",
    "    for  idx in range(trainloader.size(0)):\n",
    "        target = trainloader[idx,47,:].reshape(trainloader.size(2)).float().reshape(trainloader.size(2),1)\n",
    "        input_vectors = trainloader[idx,:47,:].float().t()\n",
    "        output = net.forward(input_vectors)\n",
    "        loss = criterion(output,target)\n",
    "        optimizer.zero_grad()\n",
    "        loss.backward()\n",
    "        optimizer.step()\n",
    "        train_loss_sum += float(loss)\n",
    "        batch_accuracy,batch_corr_count = cal_accuracy(target,output)\n",
    "        total_accuracy += batch_accuracy\n",
    "    avg_acc = total_accuracy/trainloader.size(0)\n",
    "    train_loss = train_loss_sum/trainloader.size(0)\n",
    "    print(\"Epoch No.\" , epoch, \" Train Loss\" ,train_loss,\" Avg Accuracy \",avg_acc*100,\"%\")\n",
    "    return train_loss\n",
    "\n",
    "\n",
    "def test(testloader,criterion,epoch,net):\n",
    "    net.eval()\n",
    "    test_loss_sum = 0\n",
    "    total_correct_count = 0\n",
    "    total_accuracy = 0 \n",
    "    for idx in range(testloader.size(0)):\n",
    "        target = testloader[idx,47,:].reshape(testloader.size(2)).float().reshape(testloader.size(2),1)\n",
    "        input_vectors = testloader[idx,:47,:].float().t()\n",
    "        output = net.forward(input_vectors)\n",
    "        loss = criterion(output,target.float())\n",
    "        test_loss_sum += float(loss)\n",
    "        batch_accuracy,batch_corr_count = cal_accuracy(target,output)\n",
    "        total_accuracy += batch_accuracy\n",
    "    test_loss = test_loss_sum/testloader.size(0)\n",
    "    avg_acc = total_accuracy/testloader.size(0)\n",
    "    print(\"Epoch No.\" , epoch, \" Test Loss\" ,test_loss,\" Avg Accuracy \",avg_acc*100,\"%\")\n",
    "    print(\" \")\n",
    "    return test_loss\n",
    "        \n",
    "        \n",
    "    "
   ]
  },
  {
   "cell_type": "code",
   "execution_count": 6,
   "metadata": {},
   "outputs": [],
   "source": [
    "def plot_loss(x,y):\n",
    "    plt.plot(x,y)\n",
    "    plt.show()"
   ]
  },
  {
   "cell_type": "code",
   "execution_count": 9,
   "metadata": {},
   "outputs": [
    {
     "ename": "TypeError",
     "evalue": "cannot assign 'Tensor.float' object to buffer 'pos_weight' (torch Tensor or None required)",
     "output_type": "error",
     "traceback": [
      "\u001b[0;31m---------------------------------------------------------------------------\u001b[0m",
      "\u001b[0;31mTypeError\u001b[0m                                 Traceback (most recent call last)",
      "\u001b[0;32m<ipython-input-9-60b2feeb843c>\u001b[0m in \u001b[0;36m<module>\u001b[0;34m\u001b[0m\n\u001b[1;32m     16\u001b[0m \u001b[0moptimizer\u001b[0m \u001b[0;34m=\u001b[0m \u001b[0mtorch\u001b[0m\u001b[0;34m.\u001b[0m\u001b[0moptim\u001b[0m\u001b[0;34m.\u001b[0m\u001b[0mAdam\u001b[0m\u001b[0;34m(\u001b[0m\u001b[0mreeds_net\u001b[0m\u001b[0;34m.\u001b[0m\u001b[0mparameters\u001b[0m\u001b[0;34m(\u001b[0m\u001b[0;34m)\u001b[0m\u001b[0;34m,\u001b[0m \u001b[0mlr\u001b[0m\u001b[0;34m=\u001b[0m\u001b[0mlearning_rate\u001b[0m\u001b[0;34m)\u001b[0m\u001b[0;34m\u001b[0m\u001b[0;34m\u001b[0m\u001b[0m\n\u001b[1;32m     17\u001b[0m \u001b[0mpos_weight\u001b[0m \u001b[0;34m=\u001b[0m \u001b[0mtorch\u001b[0m\u001b[0;34m.\u001b[0m\u001b[0mtensor\u001b[0m\u001b[0;34m(\u001b[0m\u001b[0;34m[\u001b[0m\u001b[0;36m2\u001b[0m\u001b[0;34m]\u001b[0m\u001b[0;34m)\u001b[0m\u001b[0;34m.\u001b[0m\u001b[0mfloat\u001b[0m\u001b[0;34m\u001b[0m\u001b[0;34m\u001b[0m\u001b[0m\n\u001b[0;32m---> 18\u001b[0;31m \u001b[0mcriterion\u001b[0m \u001b[0;34m=\u001b[0m \u001b[0mnn\u001b[0m\u001b[0;34m.\u001b[0m\u001b[0mBCEWithLogitsLoss\u001b[0m\u001b[0;34m(\u001b[0m\u001b[0mpos_weight\u001b[0m \u001b[0;34m=\u001b[0m \u001b[0mpos_weight\u001b[0m\u001b[0;34m)\u001b[0m\u001b[0;34m\u001b[0m\u001b[0;34m\u001b[0m\u001b[0m\n\u001b[0m\u001b[1;32m     19\u001b[0m \u001b[0;34m\u001b[0m\u001b[0m\n\u001b[1;32m     20\u001b[0m \u001b[0mtrain_loss_list\u001b[0m \u001b[0;34m=\u001b[0m \u001b[0;34m[\u001b[0m\u001b[0;34m]\u001b[0m\u001b[0;34m\u001b[0m\u001b[0;34m\u001b[0m\u001b[0m\n",
      "\u001b[0;32m~/anaconda3/lib/python3.7/site-packages/torch/nn/modules/loss.py\u001b[0m in \u001b[0;36m__init__\u001b[0;34m(self, weight, size_average, reduce, reduction, pos_weight)\u001b[0m\n\u001b[1;32m    593\u001b[0m         \u001b[0msuper\u001b[0m\u001b[0;34m(\u001b[0m\u001b[0mBCEWithLogitsLoss\u001b[0m\u001b[0;34m,\u001b[0m \u001b[0mself\u001b[0m\u001b[0;34m)\u001b[0m\u001b[0;34m.\u001b[0m\u001b[0m__init__\u001b[0m\u001b[0;34m(\u001b[0m\u001b[0msize_average\u001b[0m\u001b[0;34m,\u001b[0m \u001b[0mreduce\u001b[0m\u001b[0;34m,\u001b[0m \u001b[0mreduction\u001b[0m\u001b[0;34m)\u001b[0m\u001b[0;34m\u001b[0m\u001b[0;34m\u001b[0m\u001b[0m\n\u001b[1;32m    594\u001b[0m         \u001b[0mself\u001b[0m\u001b[0;34m.\u001b[0m\u001b[0mregister_buffer\u001b[0m\u001b[0;34m(\u001b[0m\u001b[0;34m'weight'\u001b[0m\u001b[0;34m,\u001b[0m \u001b[0mweight\u001b[0m\u001b[0;34m)\u001b[0m\u001b[0;34m\u001b[0m\u001b[0;34m\u001b[0m\u001b[0m\n\u001b[0;32m--> 595\u001b[0;31m         \u001b[0mself\u001b[0m\u001b[0;34m.\u001b[0m\u001b[0mregister_buffer\u001b[0m\u001b[0;34m(\u001b[0m\u001b[0;34m'pos_weight'\u001b[0m\u001b[0;34m,\u001b[0m \u001b[0mpos_weight\u001b[0m\u001b[0;34m)\u001b[0m\u001b[0;34m\u001b[0m\u001b[0;34m\u001b[0m\u001b[0m\n\u001b[0m\u001b[1;32m    596\u001b[0m \u001b[0;34m\u001b[0m\u001b[0m\n\u001b[1;32m    597\u001b[0m     \u001b[0;32mdef\u001b[0m \u001b[0mforward\u001b[0m\u001b[0;34m(\u001b[0m\u001b[0mself\u001b[0m\u001b[0;34m,\u001b[0m \u001b[0minput\u001b[0m\u001b[0;34m,\u001b[0m \u001b[0mtarget\u001b[0m\u001b[0;34m)\u001b[0m\u001b[0;34m:\u001b[0m\u001b[0;34m\u001b[0m\u001b[0;34m\u001b[0m\u001b[0m\n",
      "\u001b[0;32m~/anaconda3/lib/python3.7/site-packages/torch/nn/modules/module.py\u001b[0m in \u001b[0;36mregister_buffer\u001b[0;34m(self, name, tensor)\u001b[0m\n\u001b[1;32m    137\u001b[0m             raise TypeError(\"cannot assign '{}' object to buffer '{}' \"\n\u001b[1;32m    138\u001b[0m                             \u001b[0;34m\"(torch Tensor or None required)\"\u001b[0m\u001b[0;34m\u001b[0m\u001b[0;34m\u001b[0m\u001b[0m\n\u001b[0;32m--> 139\u001b[0;31m                             .format(torch.typename(tensor), name))\n\u001b[0m\u001b[1;32m    140\u001b[0m         \u001b[0;32melse\u001b[0m\u001b[0;34m:\u001b[0m\u001b[0;34m\u001b[0m\u001b[0;34m\u001b[0m\u001b[0m\n\u001b[1;32m    141\u001b[0m             \u001b[0mself\u001b[0m\u001b[0;34m.\u001b[0m\u001b[0m_buffers\u001b[0m\u001b[0;34m[\u001b[0m\u001b[0mname\u001b[0m\u001b[0;34m]\u001b[0m \u001b[0;34m=\u001b[0m \u001b[0mtensor\u001b[0m\u001b[0;34m\u001b[0m\u001b[0;34m\u001b[0m\u001b[0m\n",
      "\u001b[0;31mTypeError\u001b[0m: cannot assign 'Tensor.float' object to buffer 'pos_weight' (torch Tensor or None required)"
     ]
    }
   ],
   "source": [
    "input_nodes = 47\n",
    "hidden_nodes1 = 50\n",
    "hidden_nodes2 = 30\n",
    "output_nodes = 1\n",
    "batch_number = 50\n",
    "learning_rate = 0.001\n",
    "epochs = 30\n",
    "\n",
    "data=np.load(\"../data/data_float360_8.npy\")\n",
    "train_data,test_data = getdataloaders(data,50,10)\n",
    "trainloader = torch.from_numpy(train_data)\n",
    "testloader =  torch.from_numpy(test_data)\n",
    "\n",
    "\n",
    "reeds_net = network(input_nodes,hidden_nodes1,hidden_nodes2,output_nodes)\n",
    "optimizer = torch.optim.Adam(reeds_net.parameters(), lr=learning_rate)\n",
    "pos_weight = torch.tensor([2]).float\n",
    "criterion = nn.BCEWithLogitsLoss(pos_weight = pos_weight)\n",
    "\n",
    "train_loss_list = []\n",
    "test_loss_list = []\n",
    "epoch_list = []\n",
    "for epoch in range(epochs):\n",
    "    train_loss=train(trainloader, optimizer, criterion, epoch, reeds_net)\n",
    "    test_loss= test(testloader, criterion, epoch, reeds_net)\n",
    "    train_loss_list.append(train_loss)\n",
    "    test_loss_list.append(test_loss)\n",
    "    epoch_list.append(epoch)"
   ]
  },
  {
   "cell_type": "code",
   "execution_count": 13,
   "metadata": {},
   "outputs": [
    {
     "data": {
      "image/png": "[encoded data removed]",
      "text/plain": [
       "<Figure size 432x288 with 1 Axes>"
      ]
     },
     "metadata": {
      "needs_background": "light"
     },
     "output_type": "display_data"
    }
   ],
   "source": [
    "#plotting the losses\n",
    "plt.plot(epoch_list,train_loss_list)\n",
    "plt.plot(epoch_list,test_loss_list)\n",
    "plt.gca().legend((\"train_loss\",\"test_loss\"))\n",
    "plt.show()"
   ]
  },
  {
   "cell_type": "code",
   "execution_count": 14,
   "metadata": {},
   "outputs": [],
   "source": [
    "torch.save(reeds_net.state_dict(),'../trained_networks/reeds_net360_8.pt')"
   ]
  },
  {
   "cell_type": "markdown",
   "metadata": {},
   "source": []
  }
 ],
 "metadata": {
  "kernelspec": {
   "display_name": "Python 3",
   "language": "python",
   "name": "python3"
  },
  "language_info": {
   "codemirror_mode": {
    "name": "ipython",
    "version": 3
   },
   "file_extension": ".py",
   "mimetype": "text/x-python",
   "name": "python",
   "nbconvert_exporter": "python",
   "pygments_lexer": "ipython3",
   "version": "3.7.3-final"
  }
 },
 "nbformat": 4,
 "nbformat_minor": 2
}
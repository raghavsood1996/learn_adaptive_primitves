{
 "cells": [
  {
   "cell_type": "code",
   "execution_count": 4,
   "metadata": {},
   "outputs": [],
   "source": [
    "import torch\n",
    "import numpy as np\n",
    "import torch.nn as nn\n",
    "import torch.nn.functional as F\n",
    "import time"
   ]
  },
  {
   "cell_type": "code",
   "execution_count": 5,
   "metadata": {},
   "outputs": [],
   "source": [
    "def getdataloaders(data,train_batch_size,test_batch_size):\n",
    "    np.random.shuffle(data.T)\n",
    "    train_data1 = data[:,:200000]\n",
    "    test_data1 = data[:,200000:]\n",
    "    \n",
    "    #creating train batches\n",
    "    num_batches_train = int(train_data1.shape[1]/train_batch_size)\n",
    "    train_data= np.empty([num_batches_train,train_data1.shape[0],train_batch_size])\n",
    "    for idx in range (0, num_batches_train):\n",
    "        train_data[idx,:,:]=train_data1[:,idx*train_batch_size:(idx + 1)*train_batch_size]\n",
    "    \n",
    "    #creating test batches\n",
    "    num_batches_test = int(test_data1.shape[1]/test_batch_size)\n",
    "    test_data =np.empty([num_batches_test,test_data1.shape[0],test_batch_size])\n",
    "    for idx in range (0, num_batches_test):\n",
    "        test_data[idx,:,:]=test_data1[:,idx*test_batch_size:(idx + 1)*test_batch_size]\n",
    "    \n",
    "    return train_data,test_data"
   ]
  },
  {
   "cell_type": "code",
   "execution_count": 16,
   "metadata": {},
   "outputs": [],
   "source": [
    "class network(nn.Module):\n",
    "    def __init__(self):\n",
    "        super(network,self).__init__()\n",
    "        input_nodes = 47\n",
    "        hidden_nodes1 = 256\n",
    "        hidden_nodes2 = 256\n",
    "        output_nodes = 1\n",
    "        \n",
    "        self.fc1 = nn.Linear(input_nodes,hidden_nodes1)\n",
    "        nn.init.xavier_uniform_(self.fc1.weight)\n",
    "        self.bn1 = nn.BatchNorm1d(num_features=hidden_nodes1)\n",
    "        \n",
    "        self.fc2 = nn.Linear(hidden_nodes1,hidden_nodes2)\n",
    "        nn.init.xavier_uniform_(self.fc2.weight)\n",
    "        self.drop = nn.Dropout(0.2)\n",
    "        self.bn2 = nn.BatchNorm1d(num_features = hidden_nodes2)\n",
    "        \n",
    "        self.fc3 = nn.Linear(hidden_nodes2,output_nodes)\n",
    "        nn.init.xavier_uniform_(self.fc3.weight)\n",
    "        \n",
    "        self.out_act = nn.Sigmoid();\n",
    "        \n",
    "    def forward(self,X):\n",
    "        X = F.relu(self.bn1(self.fc1(X)))\n",
    "        X = self.fc2(X)\n",
    "        X = self.drop(X)\n",
    "        X = F.relu(X)\n",
    "        X = self.fc3(X)\n",
    "        # out = self.out_act(X)\n",
    "        return X\n",
    "        \n",
    "    "
   ]
  },
  {
   "cell_type": "code",
   "execution_count": 17,
   "metadata": {},
   "outputs": [],
   "source": [
    "def file_loader(filepath):\n",
    "    data = open(filepath)\n",
    "    feature_list=[] \n",
    "    \n",
    "    for idx,line in enumerate (data):\n",
    "        feature=line.split()\n",
    "        feature_list.append(feature[0])\n",
    "    \n",
    "    feature_list=np.array(feature_list)\n",
    "    input_tensor = feature_list[:362]\n",
    "    input_tensor.resize(1,362)\n",
    "    input_tensor = input_tensor.astype(np.float)\n",
    "    input_tensor = torch.from_numpy(input_tensor)\n",
    "    input_tensor = input_tensor.float()\n",
    "    \n",
    "    \n",
    "    return input_tensor;"
   ]
  },
  {
   "cell_type": "code",
   "execution_count": 18,
   "metadata": {},
   "outputs": [],
   "source": [
    "data=np.load(\"../../model_data/data_float360_8_fg_cs.npy\")\n",
    "train_data,test_data = getdataloaders(data,50,5000)\n",
    "trainloader = torch.from_numpy(train_data)\n",
    "testloader =  torch.from_numpy(test_data)\n"
   ]
  },
  {
   "cell_type": "code",
   "execution_count": 19,
   "metadata": {},
   "outputs": [
    {
     "name": "stdout",
     "output_type": "stream",
     "text": "0.018334388732910156\n"
    }
   ],
   "source": [
    "model = network()\n",
    "model.load_state_dict(torch.load('reeds_net360_8_fg_cs.pt'))\n",
    "start = time.time()\n",
    "model.eval()\n",
    "out =model.forward(testloader[1,:47,:].float().t())\n",
    "end = time.time()\n",
    "print(end - start)"
   ]
  },
  {
   "cell_type": "code",
   "execution_count": 20,
   "metadata": {},
   "outputs": [],
   "source": [
    "traced_script_module = torch.jit.trace(model,trainloader[1,:47,:].float().t() )"
   ]
  },
  {
   "cell_type": "code",
   "execution_count": 21,
   "metadata": {},
   "outputs": [
    {
     "name": "stdout",
     "output_type": "stream",
     "text": "0.05817747116088867\n"
    }
   ],
   "source": [
    "t1 = time.time()\n",
    "output = traced_script_module(testloader[1,:47,:].float().t())\n",
    "print(time.time()-t1)\n",
    "# print(output)"
   ]
  },
  {
   "cell_type": "code",
   "execution_count": 22,
   "metadata": {},
   "outputs": [],
   "source": [
    "traced_script_module.save(\"cpp_model360_8_fg_cs.pt\")"
   ]
  },
  {
   "cell_type": "code",
   "execution_count": null,
   "metadata": {},
   "outputs": [],
   "source": []
  }
 ],
 "metadata": {
  "kernelspec": {
   "display_name": "Python 3",
   "language": "python",
   "name": "python3"
  },
  "language_info": {
   "codemirror_mode": {
    "name": "ipython",
    "version": 3
   },
   "file_extension": ".py",
   "mimetype": "text/x-python",
   "name": "python",
   "nbconvert_exporter": "python",
   "pygments_lexer": "ipython3",
   "version": "3.7.3-final"
  }
 },
 "nbformat": 4,
 "nbformat_minor": 2
}